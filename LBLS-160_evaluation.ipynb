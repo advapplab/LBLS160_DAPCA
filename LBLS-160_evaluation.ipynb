{
 "cells": [
  {
   "cell_type": "code",
   "execution_count": 1,
   "metadata": {},
   "outputs": [
    {
     "name": "stderr",
     "output_type": "stream",
     "text": [
      "<ipython-input-1-ac09909db896>:1: DeprecationWarning: Importing display from IPython.core.display is deprecated since IPython 7.14, please import from IPython display\n",
      "  from IPython.core.display import display, HTML\n"
     ]
    },
    {
     "data": {
      "text/html": [
       "<style>.container { width:100% !important; }</style>"
      ],
      "text/plain": [
       "<IPython.core.display.HTML object>"
      ]
     },
     "metadata": {},
     "output_type": "display_data"
    }
   ],
   "source": [
    "from IPython.core.display import display, HTML\n",
    "display(HTML(\"<style>.container { width:100% !important; }</style>\"))"
   ]
  },
  {
   "cell_type": "markdown",
   "metadata": {},
   "source": [
    "# Load data"
   ]
  },
  {
   "cell_type": "code",
   "execution_count": 2,
   "metadata": {},
   "outputs": [],
   "source": [
    "import pandas as pd\n",
    "import numpy as np\n",
    "import matplotlib.pyplot as plt"
   ]
  },
  {
   "cell_type": "code",
   "execution_count": 3,
   "metadata": {},
   "outputs": [],
   "source": [
    "data_path = '../LBLS160/data/'"
   ]
  },
  {
   "cell_type": "code",
   "execution_count": 4,
   "metadata": {},
   "outputs": [],
   "source": [
    "br_pd = pd.read_csv(data_path + 'br.csv')\n",
    "score_pd = pd.read_csv(data_path+'score.csv')\n",
    "sill_pd = pd.read_csv(data_path+'sill.csv')\n",
    "viscode_pd = pd.read_csv(data_path+'viscode.csv')\n",
    "srl_m_pd = pd.read_csv(data_path+'srl_motivation.csv')"
   ]
  },
  {
   "cell_type": "code",
   "execution_count": 5,
   "metadata": {},
   "outputs": [],
   "source": [
    "score_pd = score_pd.set_index('userid')\n",
    "sill_pd = sill_pd.set_index('userid')\n",
    "viscode_pd = viscode_pd.set_index('userid')\n",
    "br_pd = br_pd.set_index('userid')\n",
    "srl_m_pd = srl_m_pd.set_index('userid')"
   ]
  },
  {
   "cell_type": "code",
   "execution_count": 6,
   "metadata": {},
   "outputs": [],
   "source": [
    "srl_m_pd = srl_m_pd[~srl_m_pd.index.duplicated()]\n",
    "\n",
    "# merged_pd = pd.concat([br_pd, sill_pd, viscode_pd, score_pd], axis=1)\n",
    "# merged_pd = pd.concat([br_pd, viscode_pd, srl_m_pd, sill_pd, score_pd], axis=1)\n",
    "# merged_pd = pd.concat([srl_m_pd, sill_pd, score_pd], axis=1)\n",
    "merged_pd = pd.concat([srl_m_pd, br_pd, viscode_pd, score_pd], axis=1)\n",
    "# merged_pd = merged_pd.drop(columns=['REGIST CONTENTS'])\n",
    "\n",
    "merged_pd = merged_pd[merged_pd['score'].notna()]\n",
    "merged_pd = merged_pd.fillna(0)"
   ]
  },
  {
   "cell_type": "code",
   "execution_count": 7,
   "metadata": {},
   "outputs": [
    {
     "data": {
      "text/plain": [
       "(198, 85)"
      ]
     },
     "execution_count": 7,
     "metadata": {},
     "output_type": "execute_result"
    }
   ],
   "source": [
    "merged_pd['label']=1\n",
    "merged_pd.loc[merged_pd['score'] > 83, 'label']=0\n",
    "merged_pd.shape"
   ]
  },
  {
   "cell_type": "markdown",
   "metadata": {},
   "source": [
    "## 1-1 Normalization"
   ]
  },
  {
   "cell_type": "code",
   "execution_count": 8,
   "metadata": {},
   "outputs": [
    {
     "data": {
      "text/plain": [
       "0"
      ]
     },
     "execution_count": 8,
     "metadata": {},
     "output_type": "execute_result"
    }
   ],
   "source": [
    "from sklearn.preprocessing import MinMaxScaler\n",
    "scaler = MinMaxScaler(feature_range=(0,1))\n",
    "\n",
    "\n",
    "target_class = 'a'\n",
    "source_class = 'b'\n",
    "\n",
    "test_list = merged_pd['class'].unique().tolist()\n",
    "test_list.remove(target_class)\n",
    "\n",
    "test_index = test_list.index(source_class)\n",
    "test_index"
   ]
  },
  {
   "cell_type": "code",
   "execution_count": 9,
   "metadata": {},
   "outputs": [],
   "source": [
    "train_df = merged_pd[merged_pd['class'] == target_class]\n",
    "test_0_df = merged_pd[merged_pd['class'] == test_list[0]]\n",
    "test_1_df = merged_pd[merged_pd['class'] == test_list[1]]\n",
    "test_2_df = merged_pd[merged_pd['class'] == test_list[2]]\n",
    "\n",
    "train_np = scaler.fit_transform(train_df.drop(['class', 'label', 'score'], axis=1))\n",
    "test_0_np = scaler.transform(test_0_df.drop(['class', 'label', 'score'], axis=1))\n",
    "test_1_np = scaler.transform(test_1_df.drop(['class', 'label', 'score'], axis=1))\n",
    "test_2_np = scaler.transform(test_2_df.drop(['class', 'label', 'score'], axis=1))"
   ]
  },
  {
   "cell_type": "code",
   "execution_count": 10,
   "metadata": {},
   "outputs": [],
   "source": [
    "# convert from np to df, for feature selection\n",
    "\n",
    "train_y = train_df['label']\n",
    "test_0_y = test_0_df['label']\n",
    "test_1_y = test_1_df['label']\n",
    "test_2_y = test_2_df['label']\n",
    "\n",
    "feature_list = list(train_df.drop(['class', 'label', 'score'], axis=1))\n",
    "\n",
    "train_x_df = pd.DataFrame(train_np, columns = feature_list, index=train_df.index)\n",
    "test_0_x_df = pd.DataFrame(test_0_np, columns = feature_list, index=test_0_df.index)\n",
    "test_1_x_df = pd.DataFrame(test_1_np, columns = feature_list, index=test_1_df.index)\n",
    "test_2_x_df = pd.DataFrame(test_2_np, columns = feature_list, index=test_2_df.index)"
   ]
  },
  {
   "cell_type": "markdown",
   "metadata": {},
   "source": [
    "## 1-2 Feature Selection"
   ]
  },
  {
   "cell_type": "code",
   "execution_count": 11,
   "metadata": {},
   "outputs": [],
   "source": [
    "from sklearn.feature_selection import SelectKBest\n",
    "from sklearn.feature_selection import chi2"
   ]
  },
  {
   "cell_type": "code",
   "execution_count": 12,
   "metadata": {},
   "outputs": [],
   "source": [
    "selector = SelectKBest(score_func=chi2, k=15)"
   ]
  },
  {
   "cell_type": "code",
   "execution_count": 13,
   "metadata": {},
   "outputs": [
    {
     "data": {
      "text/plain": [
       "['srl_m_17',\n",
       " 'srl_m_19',\n",
       " 'srl_m_22',\n",
       " 'srl_m_23',\n",
       " 'srl_m_24',\n",
       " 'srl_m_25',\n",
       " 'srl_m_26',\n",
       " 'ADD MEMO',\n",
       " 'CHANGE MEMO',\n",
       " 'DELETE MARKER',\n",
       " 'NOTGETIT',\n",
       " 'PAGE_JUMP',\n",
       " 'code_copy',\n",
       " 'FileNotFoundError',\n",
       " 'ModuleNotFoundError']"
      ]
     },
     "execution_count": 13,
     "metadata": {},
     "output_type": "execute_result"
    }
   ],
   "source": [
    "x_new = selector.fit_transform(train_x_df, \n",
    "                               train_y)\n",
    "\n",
    "filter = selector.get_support()\n",
    "\n",
    "features = np.array(list(train_x_df))\n",
    "\n",
    "selected_features = list(features[filter])\n",
    "selected_features"
   ]
  },
  {
   "cell_type": "code",
   "execution_count": 14,
   "metadata": {},
   "outputs": [],
   "source": [
    "merged_pd = merged_pd[selected_features]"
   ]
  },
  {
   "cell_type": "code",
   "execution_count": 15,
   "metadata": {},
   "outputs": [],
   "source": [
    "train_x_df = train_x_df[selected_features]\n",
    "\n",
    "test_0_x_df = test_0_x_df[selected_features]\n",
    "test_1_x_df = test_1_x_df[selected_features]\n",
    "test_2_x_df = test_2_x_df[selected_features]"
   ]
  },
  {
   "cell_type": "markdown",
   "metadata": {},
   "source": [
    "## 1-3 Basic PCA"
   ]
  },
  {
   "cell_type": "code",
   "execution_count": 16,
   "metadata": {},
   "outputs": [],
   "source": [
    "from sklearn.decomposition import PCA"
   ]
  },
  {
   "cell_type": "code",
   "execution_count": 17,
   "metadata": {},
   "outputs": [],
   "source": [
    "pca = PCA(n_components=3)"
   ]
  },
  {
   "cell_type": "code",
   "execution_count": 18,
   "metadata": {},
   "outputs": [],
   "source": [
    "pca.fit(train_x_df)\n",
    "train_x_pca_np = pca.transform(train_x_df)\n",
    "test_0_x_pca_np = pca.transform(test_0_x_df)\n",
    "test_1_x_pca_np = pca.transform(test_1_x_df)\n",
    "test_2_x_pca_np = pca.transform(test_2_x_df)"
   ]
  },
  {
   "cell_type": "code",
   "execution_count": 19,
   "metadata": {},
   "outputs": [],
   "source": [
    "train_pca_pd = pd.DataFrame(train_x_pca_np, index=train_x_df.index)\n",
    "train_pca_pd['label'] = train_y\n",
    "\n",
    "test_0_pca_pd = pd.DataFrame(test_0_x_pca_np, index=test_0_df.index)\n",
    "test_0_pca_pd['label'] = test_0_y\n",
    "\n",
    "test_1_pca_pd = pd.DataFrame(test_1_x_pca_np, index=test_1_df.index)\n",
    "test_1_pca_pd['label'] = test_1_y\n",
    "\n",
    "test_2_pca_pd = pd.DataFrame(test_2_x_pca_np, index=test_2_df.index)\n",
    "test_2_pca_pd['label'] = test_2_y"
   ]
  },
  {
   "cell_type": "code",
   "execution_count": null,
   "metadata": {},
   "outputs": [],
   "source": []
  },
  {
   "cell_type": "code",
   "execution_count": null,
   "metadata": {},
   "outputs": [],
   "source": []
  },
  {
   "cell_type": "markdown",
   "metadata": {},
   "source": [
    "# Setup Target and Source"
   ]
  },
  {
   "cell_type": "code",
   "execution_count": 20,
   "metadata": {},
   "outputs": [],
   "source": [
    "source_x_np = train_pca_pd.drop(['label'], axis=1).values\n",
    "source_y_np = train_pca_pd['label'].values\n",
    "\n",
    "\n",
    "# print(global()['test_'+str(test_index)+'_pca_pd'])\n",
    "\n",
    "target_x_np = globals()['test_'+str(test_index)+'_pca_pd'].drop(['label'], axis=1).values\n",
    "target_y_np = globals()['test_'+str(test_index)+'_pca_pd']['label'].values"
   ]
  },
  {
   "cell_type": "markdown",
   "metadata": {},
   "source": [
    "# DAPCA"
   ]
  },
  {
   "cell_type": "code",
   "execution_count": 21,
   "metadata": {},
   "outputs": [],
   "source": [
    "from DAPCA import DAPCA"
   ]
  },
  {
   "cell_type": "code",
   "execution_count": 22,
   "metadata": {},
   "outputs": [],
   "source": [
    "dapca = PCA(svd_solver='full')\n",
    "u = dapca.fit_transform(source_x_np)"
   ]
  },
  {
   "cell_type": "code",
   "execution_count": 23,
   "metadata": {},
   "outputs": [],
   "source": [
    "alpha = 1\n",
    "num_comps = 2\n",
    "gamma = 150\n",
    "maxIter = 20\n",
    "beta = 100\n",
    "kNN = 30"
   ]
  },
  {
   "cell_type": "code",
   "execution_count": 24,
   "metadata": {},
   "outputs": [
    {
     "name": "stdout",
     "output_type": "stream",
     "text": [
      "Iteration: 0 non-neg: 1 Hw: 5.6827089260386465\n",
      "Iteration: 1 non-neg: 1 Hw diff: 0.09491607328049448 (6.278654120657889)\n",
      "Iteration: 2 non-neg: 1 Hw diff: 0.05474279671880214 (6.642270589278014)\n",
      "Iteration: 3 non-neg: 1 Hw diff: 0.01696882266052115 (6.7569276971000685)\n",
      "Iteration: 4 non-neg: 1 Hw diff: 0.004256828272667632 (6.785813740885326)\n",
      "Iteration: 5 non-neg: 1 Hw diff: 0.0007046077445760926 (6.790598449142898)\n",
      "Iteration: 6 non-neg: 1 Hw diff: 0.00038762143822948926 (6.793231651365827)\n",
      "Iteration: 7 non-neg: 1 Hw diff: 0.000399429052717366 (6.795946149698719)\n",
      "Iteration: 8 non-neg: 1 Hw diff: 4.651908994919533e-05 (6.796262305636233)\n",
      "Iteration: 9 non-neg: 1 Hw diff: 1.2713769984799069e-05 (6.796348712850505)\n",
      "Iteration: 10 non-neg: 1 Hw diff: 1.6428518881992958e-05 (6.796460368628002)\n",
      "Iteration: 11 non-neg: 1 Hw diff: 0.00014366735366770663 (6.797436938404665)\n",
      "Iteration: 12 non-neg: 1 Hw diff: 1.0078254762468409e-05 (6.797505445396293)\n",
      "Iteration: 13 non-neg: 1 Hw diff: 0.0 (6.797505445396293)\n"
     ]
    },
    {
     "name": "stderr",
     "output_type": "stream",
     "text": [
      "/tf/DAPCA/DAPCA.py:618: UserWarning: All eigenvalues starting from 1 are negative\n",
      "  warnings.warn(f\"All eigenvalues starting from {ind} are negative\")\n"
     ]
    }
   ],
   "source": [
    "initialV = dapca.components_[:num_comps,:].T\n",
    "if num_comps==1:\n",
    "    initialV = initialV.reshape(-1,1)\n",
    "    \n",
    "\n",
    "[V1, D1, source_dapca_x, target_dapca_x, kNNs] = DAPCA(source_x_np, source_y_np, num_comps,  YY=target_x_np, \n",
    "                                                       alpha=alpha, gamma=gamma,maxIter=maxIter,\n",
    "                                                       beta=beta,verbose='all',kNN=kNN,\n",
    "                                                       initialV = initialV,eps=1e-10)                                    \n"
   ]
  },
  {
   "cell_type": "code",
   "execution_count": 25,
   "metadata": {},
   "outputs": [],
   "source": [
    "# source\n",
    "\n",
    "source_dapca_pd = pd.DataFrame(source_dapca_x)\n",
    "source_dapca_pd['label'] = source_y_np"
   ]
  },
  {
   "cell_type": "code",
   "execution_count": 26,
   "metadata": {
    "scrolled": true
   },
   "outputs": [],
   "source": [
    "target_dapca_pd = pd.DataFrame(target_dapca_x)\n",
    "target_dapca_pd['label'] = target_y_np"
   ]
  },
  {
   "cell_type": "code",
   "execution_count": 27,
   "metadata": {},
   "outputs": [
    {
     "data": {
      "image/png": "[encoded data removed]",
      "text/plain": [
       "<Figure size 640x480 with 1 Axes>"
      ]
     },
     "metadata": {},
     "output_type": "display_data"
    }
   ],
   "source": [
    "plt.scatter(x = source_dapca_pd[source_dapca_pd['label']==0][0], \n",
    "            y = source_dapca_pd[source_dapca_pd['label']==0][1],\n",
    "            label = 'class_'+test_list[0] + '_false',\n",
    "            alpha=0.5, marker=\"+\")\n",
    "\n",
    "plt.scatter(x = source_dapca_pd[source_dapca_pd['label']==1][0], \n",
    "            y = source_dapca_pd[source_dapca_pd['label']==1][1],\n",
    "            label = 'class_'+test_list[0] + '_true',\n",
    "            alpha=0.5, marker=\"+\")\n",
    "\n",
    "plt.scatter(x = target_dapca_pd[target_dapca_pd['label']==0][0], \n",
    "            y = target_dapca_pd[target_dapca_pd['label']==0][1],\n",
    "            label = 'class_'+test_list[0] + '_false',\n",
    "            alpha=0.5, marker=\"*\")\n",
    "\n",
    "plt.scatter(x = target_dapca_pd[target_dapca_pd['label']==1][0], \n",
    "            y = target_dapca_pd[target_dapca_pd['label']==1][1],\n",
    "            label = 'class_'+test_list[0] + '_true',\n",
    "            alpha=0.5, marker=\"*\")\n",
    "\n",
    "plt.legend()\n",
    "plt.show()"
   ]
  },
  {
   "cell_type": "markdown",
   "metadata": {},
   "source": [
    "# SVM Evaluation"
   ]
  },
  {
   "cell_type": "code",
   "execution_count": 28,
   "metadata": {},
   "outputs": [],
   "source": [
    "from sklearn.model_selection import train_test_split\n",
    "from sklearn import svm\n",
    "from sklearn.metrics import accuracy_score\n",
    "\n",
    "X_train, X_test, y_train, y_test = train_test_split(source_dapca_x, \n",
    "                                                    source_y_np, \n",
    "                                                    test_size=0.33, \n",
    "                                                    random_state=42)"
   ]
  },
  {
   "cell_type": "code",
   "execution_count": 29,
   "metadata": {},
   "outputs": [
    {
     "data": {
      "text/html": [
       "<style>#sk-container-id-1 {color: black;background-color: white;}#sk-container-id-1 pre{padding: 0;}#sk-container-id-1 div.sk-toggleable {background-color: white;}#sk-container-id-1 label.sk-toggleable__label {cursor: pointer;display: block;width: 100%;margin-bottom: 0;padding: 0.3em;box-sizing: border-box;text-align: center;}#sk-container-id-1 label.sk-toggleable__label-arrow:before {content: \"▸\";float: left;margin-right: 0.25em;color: #696969;}#sk-container-id-1 label.sk-toggleable__label-arrow:hover:before {color: black;}#sk-container-id-1 div.sk-estimator:hover label.sk-toggleable__label-arrow:before {color: black;}#sk-container-id-1 div.sk-toggleable__content {max-height: 0;max-width: 0;overflow: hidden;text-align: left;background-color: #f0f8ff;}#sk-container-id-1 div.sk-toggleable__content pre {margin: 0.2em;color: black;border-radius: 0.25em;background-color: #f0f8ff;}#sk-container-id-1 input.sk-toggleable__control:checked~div.sk-toggleable__content {max-height: 200px;max-width: 100%;overflow: auto;}#sk-container-id-1 input.sk-toggleable__control:checked~label.sk-toggleable__label-arrow:before {content: \"▾\";}#sk-container-id-1 div.sk-estimator input.sk-toggleable__control:checked~label.sk-toggleable__label {background-color: #d4ebff;}#sk-container-id-1 div.sk-label input.sk-toggleable__control:checked~label.sk-toggleable__label {background-color: #d4ebff;}#sk-container-id-1 input.sk-hidden--visually {border: 0;clip: rect(1px 1px 1px 1px);clip: rect(1px, 1px, 1px, 1px);height: 1px;margin: -1px;overflow: hidden;padding: 0;position: absolute;width: 1px;}#sk-container-id-1 div.sk-estimator {font-family: monospace;background-color: #f0f8ff;border: 1px dotted black;border-radius: 0.25em;box-sizing: border-box;margin-bottom: 0.5em;}#sk-container-id-1 div.sk-estimator:hover {background-color: #d4ebff;}#sk-container-id-1 div.sk-parallel-item::after {content: \"\";width: 100%;border-bottom: 1px solid gray;flex-grow: 1;}#sk-container-id-1 div.sk-label:hover label.sk-toggleable__label {background-color: #d4ebff;}#sk-container-id-1 div.sk-serial::before {content: \"\";position: absolute;border-left: 1px solid gray;box-sizing: border-box;top: 0;bottom: 0;left: 50%;z-index: 0;}#sk-container-id-1 div.sk-serial {display: flex;flex-direction: column;align-items: center;background-color: white;padding-right: 0.2em;padding-left: 0.2em;position: relative;}#sk-container-id-1 div.sk-item {position: relative;z-index: 1;}#sk-container-id-1 div.sk-parallel {display: flex;align-items: stretch;justify-content: center;background-color: white;position: relative;}#sk-container-id-1 div.sk-item::before, #sk-container-id-1 div.sk-parallel-item::before {content: \"\";position: absolute;border-left: 1px solid gray;box-sizing: border-box;top: 0;bottom: 0;left: 50%;z-index: -1;}#sk-container-id-1 div.sk-parallel-item {display: flex;flex-direction: column;z-index: 1;position: relative;background-color: white;}#sk-container-id-1 div.sk-parallel-item:first-child::after {align-self: flex-end;width: 50%;}#sk-container-id-1 div.sk-parallel-item:last-child::after {align-self: flex-start;width: 50%;}#sk-container-id-1 div.sk-parallel-item:only-child::after {width: 0;}#sk-container-id-1 div.sk-dashed-wrapped {border: 1px dashed gray;margin: 0 0.4em 0.5em 0.4em;box-sizing: border-box;padding-bottom: 0.4em;background-color: white;}#sk-container-id-1 div.sk-label label {font-family: monospace;font-weight: bold;display: inline-block;line-height: 1.2em;}#sk-container-id-1 div.sk-label-container {text-align: center;}#sk-container-id-1 div.sk-container {/* jupyter's `normalize.less` sets `[hidden] { display: none; }` but bootstrap.min.css set `[hidden] { display: none !important; }` so we also need the `!important` here to be able to override the default hidden behavior on the sphinx rendered scikit-learn.org. See: https://github.com/scikit-learn/scikit-learn/issues/21755 */display: inline-block !important;position: relative;}#sk-container-id-1 div.sk-text-repr-fallback {display: none;}</style><div id=\"sk-container-id-1\" class=\"sk-top-container\"><div class=\"sk-text-repr-fallback\"><pre>SVC()</pre><b>In a Jupyter environment, please rerun this cell to show the HTML representation or trust the notebook. <br />On GitHub, the HTML representation is unable to render, please try loading this page with nbviewer.org.</b></div><div class=\"sk-container\" hidden><div class=\"sk-item\"><div class=\"sk-estimator sk-toggleable\"><input class=\"sk-toggleable__control sk-hidden--visually\" id=\"sk-estimator-id-1\" type=\"checkbox\" checked><label for=\"sk-estimator-id-1\" class=\"sk-toggleable__label sk-toggleable__label-arrow\">SVC</label><div class=\"sk-toggleable__content\"><pre>SVC()</pre></div></div></div></div></div>"
      ],
      "text/plain": [
       "SVC()"
      ]
     },
     "execution_count": 29,
     "metadata": {},
     "output_type": "execute_result"
    }
   ],
   "source": [
    "clf = svm.SVC(kernel='rbf')\n",
    "clf.fit(X_train, y_train)"
   ]
  },
  {
   "cell_type": "code",
   "execution_count": 30,
   "metadata": {},
   "outputs": [
    {
     "data": {
      "text/plain": [
       "0.8571428571428571"
      ]
     },
     "execution_count": 30,
     "metadata": {},
     "output_type": "execute_result"
    }
   ],
   "source": [
    "y_pred = clf.predict(X_test)\n",
    "accuracy_score(y_test, y_pred)"
   ]
  },
  {
   "cell_type": "code",
   "execution_count": 31,
   "metadata": {},
   "outputs": [
    {
     "data": {
      "text/plain": [
       "0.7857142857142857"
      ]
     },
     "execution_count": 31,
     "metadata": {},
     "output_type": "execute_result"
    }
   ],
   "source": [
    "y_pred = clf.predict(target_dapca_x)\n",
    "accuracy_score(target_y_np, y_pred)"
   ]
  },
  {
   "cell_type": "markdown",
   "metadata": {},
   "source": [
    "# Visualization"
   ]
  },
  {
   "cell_type": "code",
   "execution_count": 32,
   "metadata": {},
   "outputs": [
    {
     "data": {
      "image/png": "[encoded data removed]",
      "text/plain": [
       "<Figure size 500x250 with 2 Axes>"
      ]
     },
     "metadata": {},
     "output_type": "display_data"
    }
   ],
   "source": [
    "resolution = 20\n",
    "dx = np.linspace(np.min(source_dapca_x[:, 0]), np.max(source_dapca_x[:, 0]), resolution)\n",
    "dy = np.linspace(np.min(source_dapca_x[:, 1]), np.max(source_dapca_x[:, 1]), resolution)\n",
    "dx, dy = np.meshgrid(dx, dy)\n",
    "\n",
    "\n",
    "# merge dx, dy to test_x\n",
    "test_x = np.c_[dx.flatten(), dy.flatten()]\n",
    "z = clf.predict(test_x)\n",
    "z = z.reshape(dx.shape)\n",
    "\n",
    "plt.rcParams.update({'font.size': 8})\n",
    "plt.subplots(figsize=(5, 2.5))\n",
    "\n",
    "for i in range(0, 2):\n",
    "\n",
    "    plt.subplot(1, 2, i+1)\n",
    "    plt.contourf(dx, dy, z, alpha=0.1, cmap='RdYlBu')\n",
    "    \n",
    "    if i == 0:\n",
    "        label = 'source'\n",
    "    else:\n",
    "        label = 'target'\n",
    "    \n",
    "    # source_dapca_pd\n",
    "    scatter_x = globals()[label+'_dapca_pd']\n",
    "    \n",
    "    # source_dapca_x, source_y_np\n",
    "    predict_x = globals()[label+'_dapca_x']\n",
    "    predict_y = globals()[label+'_y_np']\n",
    "    \n",
    "    y_pred = clf.predict(predict_x)\n",
    "    acc = accuracy_score(predict_y, y_pred)\n",
    "\n",
    "    plt.scatter(x = scatter_x[scatter_x['label']==0][0], \n",
    "                y = scatter_x[scatter_x['label']==0][1],\n",
    "                label = 'False',\n",
    "                alpha=0.8, marker=\"+\", s=10)\n",
    "\n",
    "    plt.scatter(x = scatter_x[scatter_x['label']==1][0], \n",
    "                y = scatter_x[scatter_x['label']==1][1],\n",
    "                label = 'True',\n",
    "                alpha=0.8, marker=\".\", s=10)\n",
    "    \n",
    "    plt.ylabel('PC2')\n",
    "    plt.xlabel('PC1')\n",
    "        \n",
    "    plt.legend()\n",
    "    plt.title('Test by Class (acc=' +\"{:.2f}\".format(acc)+')')\n",
    "\n",
    "    \n",
    "plt.tight_layout()\n",
    "plt.show()"
   ]
  },
  {
   "cell_type": "markdown",
   "metadata": {},
   "source": [
    "# Hyperparameter Tuning"
   ]
  },
  {
   "cell_type": "code",
   "execution_count": 33,
   "metadata": {},
   "outputs": [],
   "source": [
    "import itertools\n",
    "\n",
    "import warnings\n",
    "warnings.filterwarnings('ignore')"
   ]
  },
  {
   "cell_type": "code",
   "execution_count": 34,
   "metadata": {
    "scrolled": true
   },
   "outputs": [
    {
     "name": "stdout",
     "output_type": "stream",
     "text": [
      "0.7857142857142857 1 1 1 1\n",
      "0.8035714285714286 1 1 2 1\n"
     ]
    },
    {
     "ename": "KeyboardInterrupt",
     "evalue": "",
     "output_type": "error",
     "traceback": [
      "\u001b[0;31m\u001b[0m",
      "\u001b[0;31mKeyboardInterrupt\u001b[0mTraceback (most recent call last)",
      "Input \u001b[0;32mIn [34]\u001b[0m, in \u001b[0;36m<cell line: 10>\u001b[0;34m()\u001b[0m\n\u001b[1;32m     13\u001b[0m \u001b[38;5;28;01mif\u001b[39;00m num_comps\u001b[38;5;241m==\u001b[39m\u001b[38;5;241m1\u001b[39m:\n\u001b[1;32m     14\u001b[0m     initialV \u001b[38;5;241m=\u001b[39m initialV\u001b[38;5;241m.\u001b[39mreshape(\u001b[38;5;241m-\u001b[39m\u001b[38;5;241m1\u001b[39m,\u001b[38;5;241m1\u001b[39m)\n\u001b[0;32m---> 17\u001b[0m [V1, D1, source_dapca_x, target_dapca_x, kNNs] \u001b[38;5;241m=\u001b[39m \u001b[43mDAPCA\u001b[49m\u001b[43m(\u001b[49m\u001b[43msource_x_np\u001b[49m\u001b[43m,\u001b[49m\u001b[43m \u001b[49m\u001b[43msource_y_np\u001b[49m\u001b[43m,\u001b[49m\u001b[43m \u001b[49m\u001b[43mnum_comps\u001b[49m\u001b[43m,\u001b[49m\u001b[43m  \u001b[49m\u001b[43mYY\u001b[49m\u001b[38;5;241;43m=\u001b[39;49m\u001b[43mtarget_x_np\u001b[49m\u001b[43m,\u001b[49m\u001b[43m \u001b[49m\n\u001b[1;32m     18\u001b[0m \u001b[43m                                                       \u001b[49m\u001b[43malpha\u001b[49m\u001b[38;5;241;43m=\u001b[39;49m\u001b[43malpha\u001b[49m\u001b[43m,\u001b[49m\u001b[43m \u001b[49m\u001b[43mgamma\u001b[49m\u001b[38;5;241;43m=\u001b[39;49m\u001b[43mgamma\u001b[49m\u001b[43m,\u001b[49m\u001b[43mmaxIter\u001b[49m\u001b[38;5;241;43m=\u001b[39;49m\u001b[43mmaxIter\u001b[49m\u001b[43m,\u001b[49m\n\u001b[1;32m     19\u001b[0m \u001b[43m                                                       \u001b[49m\u001b[43mbeta\u001b[49m\u001b[38;5;241;43m=\u001b[39;49m\u001b[43mbeta\u001b[49m\u001b[43m,\u001b[49m\u001b[43mverbose\u001b[49m\u001b[38;5;241;43m=\u001b[39;49m\u001b[38;5;124;43m'\u001b[39;49m\u001b[38;5;124;43mwarning\u001b[39;49m\u001b[38;5;124;43m'\u001b[39;49m\u001b[43m,\u001b[49m\u001b[43mkNN\u001b[49m\u001b[38;5;241;43m=\u001b[39;49m\u001b[43mkNN\u001b[49m\u001b[43m,\u001b[49m\n\u001b[1;32m     20\u001b[0m \u001b[43m                                                       \u001b[49m\u001b[43minitialV\u001b[49m\u001b[43m \u001b[49m\u001b[38;5;241;43m=\u001b[39;49m\u001b[43m \u001b[49m\u001b[43minitialV\u001b[49m\u001b[43m,\u001b[49m\u001b[43m \u001b[49m\u001b[43meps\u001b[49m\u001b[38;5;241;43m=\u001b[39;49m\u001b[38;5;241;43m1e-10\u001b[39;49m\u001b[43m)\u001b[49m   \n\u001b[1;32m     22\u001b[0m source_dapca_pd \u001b[38;5;241m=\u001b[39m pd\u001b[38;5;241m.\u001b[39mDataFrame(source_dapca_x)\n\u001b[1;32m     23\u001b[0m source_dapca_pd[\u001b[38;5;124m'\u001b[39m\u001b[38;5;124mlabel\u001b[39m\u001b[38;5;124m'\u001b[39m] \u001b[38;5;241m=\u001b[39m source_y_np\n",
      "File \u001b[0;32m/tf/DAPCA/DAPCA.py:514\u001b[0m, in \u001b[0;36mDAPCA\u001b[0;34m(XX, labels, nComp, YY, alpha, beta, gamma, kNN, kNNweights, delta, maxIter, tca, verbose, knn_class_instance, n_jobs, eps, initialV)\u001b[0m\n\u001b[1;32m    512\u001b[0m \u001b[38;5;66;03m# Search NN\u001b[39;00m\n\u001b[1;32m    513\u001b[0m \u001b[38;5;28;01mif\u001b[39;00m \u001b[38;5;28mhasattr\u001b[39m(knn_class_instance, \u001b[38;5;124m\"\u001b[39m\u001b[38;5;124mfit\u001b[39m\u001b[38;5;124m\"\u001b[39m):\n\u001b[0;32m--> 514\u001b[0m     dist, ind \u001b[38;5;241m=\u001b[39m \u001b[43mknn_class_instance\u001b[49m\u001b[38;5;241;43m.\u001b[39;49m\u001b[43mkneighbors\u001b[49m\u001b[43m(\u001b[49m\u001b[43mPY\u001b[49m\u001b[43m[\u001b[49m\u001b[43mk\u001b[49m\u001b[43m \u001b[49m\u001b[38;5;241;43m-\u001b[39;49m\u001b[43m \u001b[49m\u001b[38;5;241;43m1\u001b[39;49m\u001b[43m \u001b[49m\u001b[43m:\u001b[49m\u001b[43m \u001b[49m\u001b[43mkk\u001b[49m\u001b[43m,\u001b[49m\u001b[43m \u001b[49m\u001b[43m:\u001b[49m\u001b[43m]\u001b[49m\u001b[43m)\u001b[49m\n\u001b[1;32m    515\u001b[0m \u001b[38;5;28;01melse\u001b[39;00m:\n\u001b[1;32m    516\u001b[0m     dist, ind \u001b[38;5;241m=\u001b[39m knn_class_instance\u001b[38;5;241m.\u001b[39mkneighbors(PY[k \u001b[38;5;241m-\u001b[39m \u001b[38;5;241m1\u001b[39m : kk, :], PX)\n",
      "File \u001b[0;32m/usr/local/lib/python3.8/dist-packages/sklearn/neighbors/_base.py:784\u001b[0m, in \u001b[0;36mKNeighborsMixin.kneighbors\u001b[0;34m(self, X, n_neighbors, return_distance)\u001b[0m\n\u001b[1;32m    732\u001b[0m \u001b[38;5;28;01mdef\u001b[39;00m \u001b[38;5;21mkneighbors\u001b[39m(\u001b[38;5;28mself\u001b[39m, X\u001b[38;5;241m=\u001b[39m\u001b[38;5;28;01mNone\u001b[39;00m, n_neighbors\u001b[38;5;241m=\u001b[39m\u001b[38;5;28;01mNone\u001b[39;00m, return_distance\u001b[38;5;241m=\u001b[39m\u001b[38;5;28;01mTrue\u001b[39;00m):\n\u001b[1;32m    733\u001b[0m     \u001b[38;5;124;03m\"\"\"Find the K-neighbors of a point.\u001b[39;00m\n\u001b[1;32m    734\u001b[0m \n\u001b[1;32m    735\u001b[0m \u001b[38;5;124;03m    Returns indices of and distances to the neighbors of each point.\u001b[39;00m\n\u001b[0;32m   (...)\u001b[0m\n\u001b[1;32m    782\u001b[0m \u001b[38;5;124;03m           [2]]...)\u001b[39;00m\n\u001b[1;32m    783\u001b[0m \u001b[38;5;124;03m    \"\"\"\u001b[39;00m\n\u001b[0;32m--> 784\u001b[0m     \u001b[43mcheck_is_fitted\u001b[49m\u001b[43m(\u001b[49m\u001b[38;5;28;43mself\u001b[39;49m\u001b[43m)\u001b[49m\n\u001b[1;32m    786\u001b[0m     \u001b[38;5;28;01mif\u001b[39;00m n_neighbors \u001b[38;5;129;01mis\u001b[39;00m \u001b[38;5;28;01mNone\u001b[39;00m:\n\u001b[1;32m    787\u001b[0m         n_neighbors \u001b[38;5;241m=\u001b[39m \u001b[38;5;28mself\u001b[39m\u001b[38;5;241m.\u001b[39mn_neighbors\n",
      "File \u001b[0;32m/usr/local/lib/python3.8/dist-packages/sklearn/utils/validation.py:1375\u001b[0m, in \u001b[0;36mcheck_is_fitted\u001b[0;34m(estimator, attributes, msg, all_or_any)\u001b[0m\n\u001b[1;32m   1373\u001b[0m     fitted \u001b[38;5;241m=\u001b[39m estimator\u001b[38;5;241m.\u001b[39m__sklearn_is_fitted__()\n\u001b[1;32m   1374\u001b[0m \u001b[38;5;28;01melse\u001b[39;00m:\n\u001b[0;32m-> 1375\u001b[0m     fitted \u001b[38;5;241m=\u001b[39m [\n\u001b[1;32m   1376\u001b[0m         v \u001b[38;5;28;01mfor\u001b[39;00m v \u001b[38;5;129;01min\u001b[39;00m \u001b[38;5;28mvars\u001b[39m(estimator) \u001b[38;5;28;01mif\u001b[39;00m v\u001b[38;5;241m.\u001b[39mendswith(\u001b[38;5;124m\"\u001b[39m\u001b[38;5;124m_\u001b[39m\u001b[38;5;124m\"\u001b[39m) \u001b[38;5;129;01mand\u001b[39;00m \u001b[38;5;129;01mnot\u001b[39;00m v\u001b[38;5;241m.\u001b[39mstartswith(\u001b[38;5;124m\"\u001b[39m\u001b[38;5;124m__\u001b[39m\u001b[38;5;124m\"\u001b[39m)\n\u001b[1;32m   1377\u001b[0m     ]\n\u001b[1;32m   1379\u001b[0m \u001b[38;5;28;01mif\u001b[39;00m \u001b[38;5;129;01mnot\u001b[39;00m fitted:\n\u001b[1;32m   1380\u001b[0m     \u001b[38;5;28;01mraise\u001b[39;00m NotFittedError(msg \u001b[38;5;241m%\u001b[39m {\u001b[38;5;124m\"\u001b[39m\u001b[38;5;124mname\u001b[39m\u001b[38;5;124m\"\u001b[39m: \u001b[38;5;28mtype\u001b[39m(estimator)\u001b[38;5;241m.\u001b[39m\u001b[38;5;18m__name__\u001b[39m})\n",
      "File \u001b[0;32m/usr/local/lib/python3.8/dist-packages/sklearn/utils/validation.py:1376\u001b[0m, in \u001b[0;36m<listcomp>\u001b[0;34m(.0)\u001b[0m\n\u001b[1;32m   1373\u001b[0m     fitted \u001b[38;5;241m=\u001b[39m estimator\u001b[38;5;241m.\u001b[39m__sklearn_is_fitted__()\n\u001b[1;32m   1374\u001b[0m \u001b[38;5;28;01melse\u001b[39;00m:\n\u001b[1;32m   1375\u001b[0m     fitted \u001b[38;5;241m=\u001b[39m [\n\u001b[0;32m-> 1376\u001b[0m         v \u001b[38;5;28;01mfor\u001b[39;00m v \u001b[38;5;129;01min\u001b[39;00m \u001b[38;5;28mvars\u001b[39m(estimator) \u001b[38;5;28;01mif\u001b[39;00m v\u001b[38;5;241m.\u001b[39mendswith(\u001b[38;5;124m\"\u001b[39m\u001b[38;5;124m_\u001b[39m\u001b[38;5;124m\"\u001b[39m) \u001b[38;5;129;01mand\u001b[39;00m \u001b[38;5;129;01mnot\u001b[39;00m v\u001b[38;5;241m.\u001b[39mstartswith(\u001b[38;5;124m\"\u001b[39m\u001b[38;5;124m__\u001b[39m\u001b[38;5;124m\"\u001b[39m)\n\u001b[1;32m   1377\u001b[0m     ]\n\u001b[1;32m   1379\u001b[0m \u001b[38;5;28;01mif\u001b[39;00m \u001b[38;5;129;01mnot\u001b[39;00m fitted:\n\u001b[1;32m   1380\u001b[0m     \u001b[38;5;28;01mraise\u001b[39;00m NotFittedError(msg \u001b[38;5;241m%\u001b[39m {\u001b[38;5;124m\"\u001b[39m\u001b[38;5;124mname\u001b[39m\u001b[38;5;124m\"\u001b[39m: \u001b[38;5;28mtype\u001b[39m(estimator)\u001b[38;5;241m.\u001b[39m\u001b[38;5;18m__name__\u001b[39m})\n",
      "\u001b[0;31mKeyboardInterrupt\u001b[0m: "
     ]
    }
   ],
   "source": [
    "alphas = list(np.arange (1, 10, 1))\n",
    "num_comps = 2\n",
    "gammas = list(np.arange (1, 10, 1))\n",
    "maxIter = 20\n",
    "betas = list(np.arange (1, 10, 1))\n",
    "kNNs = list(range(1, 30, 1))\n",
    "\n",
    "accuracy = 0\n",
    "\n",
    "for alpha, gamma, beta, kNN in list(itertools.product(alphas, gammas, betas, kNNs)):\n",
    "\n",
    "    initialV = dapca.components_[:num_comps,:].T\n",
    "    if num_comps==1:\n",
    "        initialV = initialV.reshape(-1,1)\n",
    "\n",
    "\n",
    "    [V1, D1, source_dapca_x, target_dapca_x, kNNs] = DAPCA(source_x_np, source_y_np, num_comps,  YY=target_x_np, \n",
    "                                                           alpha=alpha, gamma=gamma,maxIter=maxIter,\n",
    "                                                           beta=beta,verbose='warning',kNN=kNN,\n",
    "                                                           initialV = initialV, eps=1e-10)   \n",
    "\n",
    "    source_dapca_pd = pd.DataFrame(source_dapca_x)\n",
    "    source_dapca_pd['label'] = source_y_np\n",
    "\n",
    "    target_dapca_pd = pd.DataFrame(target_dapca_x)\n",
    "    target_dapca_pd['label'] = target_y_np\n",
    "\n",
    "    X_train, X_test, y_train, y_test = train_test_split(source_dapca_x, \n",
    "                                                        source_y_np, \n",
    "                                                        test_size=0.33, \n",
    "                                                        random_state=42)\n",
    "\n",
    "    clf = svm.SVC(kernel='rbf')\n",
    "    clf.fit(X_train, y_train)\n",
    "\n",
    "    y_pred = clf.predict(target_dapca_x)\n",
    "    acc = accuracy_score(target_y_np, y_pred)\n",
    "    \n",
    "    if acc > accuracy:\n",
    "        accuracy = acc\n",
    "        print (accuracy, alpha, gamma, beta, kNN)\n",
    "        \n",
    "        opt_model = clf\n",
    "        opt_alpha = alpha\n",
    "        opt_gamma = gamma\n",
    "        opt_beta = beta\n",
    "        opt_kNN = kNN\n"
   ]
  },
  {
   "cell_type": "code",
   "execution_count": 35,
   "metadata": {},
   "outputs": [
    {
     "name": "stdout",
     "output_type": "stream",
     "text": [
      "Iteration: 0 non-neg: 2 Hw: 1.9243562215382326\n",
      "Iteration: 1 non-neg: 2 Hw diff: 0.0034481886629670767 (1.9310147246196887)\n",
      "Iteration: 2 non-neg: 2 Hw diff: 0.0025273820584277677 (1.935907502508304)\n",
      "Iteration: 3 non-neg: 2 Hw diff: 0.002075279222160896 (1.9399334059981477)\n",
      "Iteration: 4 non-neg: 2 Hw diff: 0.0013415256591435753 (1.9425393724101325)\n",
      "Iteration: 5 non-neg: 2 Hw diff: 0.001029150641282629 (1.9445405976131662)\n",
      "Iteration: 6 non-neg: 2 Hw diff: 0.00023041384619758854 (1.9449887499518537)\n",
      "Iteration: 7 non-neg: 2 Hw diff: 1.716871050006726e-05 (1.9450221434739512)\n",
      "Iteration: 8 non-neg: 2 Hw diff: 4.591448011249292e-05 (1.9451114522550423)\n",
      "Iteration: 9 non-neg: 2 Hw diff: 4.618772727732657e-06 (1.9451204363242658)\n"
     ]
    }
   ],
   "source": [
    "initialV = dapca.components_[:num_comps,:].T\n",
    "if num_comps==1:\n",
    "    initialV = initialV.reshape(-1,1)\n",
    "    \n",
    "\n",
    "[V1, D1, source_dapca_x, target_dapca_x, kNNs] = DAPCA(source_x_np, source_y_np, num_comps,  YY=target_x_np, \n",
    "                                                       alpha=opt_alpha, gamma=opt_gamma, maxIter=maxIter,\n",
    "                                                       beta=opt_beta, verbose='all', kNN=opt_kNN,\n",
    "                                                       initialV = initialV,eps=1e-10)\n",
    "\n",
    "source_dapca_pd = pd.DataFrame(source_dapca_x)\n",
    "source_dapca_pd['label'] = source_y_np\n",
    "\n",
    "target_dapca_pd = pd.DataFrame(target_dapca_x)\n",
    "target_dapca_pd['label'] = target_y_np\n",
    "\n",
    "X_train, X_test, y_train, y_test = train_test_split(source_dapca_x, \n",
    "                                                    source_y_np, \n",
    "                                                    test_size=0.33, \n",
    "                                                    random_state=42)"
   ]
  },
  {
   "cell_type": "code",
   "execution_count": 36,
   "metadata": {},
   "outputs": [
    {
     "data": {
      "image/png": "[encoded data removed]",
      "text/plain": [
       "<Figure size 500x250 with 2 Axes>"
      ]
     },
     "metadata": {},
     "output_type": "display_data"
    }
   ],
   "source": [
    "resolution = 20\n",
    "dx = np.linspace(np.min(source_dapca_x[:, 0]), np.max(source_dapca_x[:, 0]), resolution)\n",
    "dy = np.linspace(np.min(source_dapca_x[:, 1]), np.max(source_dapca_x[:, 1]), resolution)\n",
    "dx, dy = np.meshgrid(dx, dy)\n",
    "\n",
    "\n",
    "# merge dx, dy to test_x\n",
    "test_x = np.c_[dx.flatten(), dy.flatten()]\n",
    "z = opt_model.predict(test_x)\n",
    "z = z.reshape(dx.shape)\n",
    "\n",
    "plt.rcParams.update({'font.size': 8})\n",
    "plt.subplots(figsize=(5, 2.5))\n",
    "\n",
    "for i in range(0, 2):\n",
    "\n",
    "    plt.subplot(1, 2, i+1)\n",
    "    plt.contourf(dx, dy, z, alpha=0.1, cmap='RdYlBu')\n",
    "    \n",
    "    \n",
    "    if i == 0:\n",
    "        label = 'source'\n",
    "        Class = target_class\n",
    "    else:\n",
    "        label = 'target'\n",
    "        Class = source_class\n",
    "    \n",
    "   \n",
    "    # source_dapca_pd\n",
    "    scatter_x = globals()[label+'_dapca_pd']\n",
    "    \n",
    "    # source_dapca_x, source_y_np\n",
    "    predict_x = globals()[label+'_dapca_x']\n",
    "    predict_y = globals()[label+'_y_np']\n",
    "    \n",
    "\n",
    "    \n",
    "    y_pred = opt_model.predict(predict_x)\n",
    "    acc = accuracy_score(predict_y, y_pred)\n",
    "\n",
    "    plt.scatter(x = scatter_x[scatter_x['label']==0][0], \n",
    "                y = scatter_x[scatter_x['label']==0][1],\n",
    "                label = 'False',\n",
    "                alpha=0.8, marker=\"+\", s=10)\n",
    "\n",
    "    plt.scatter(x = scatter_x[scatter_x['label']==1][0], \n",
    "                y = scatter_x[scatter_x['label']==1][1],\n",
    "                label = 'True',\n",
    "                alpha=0.8, marker=\".\", s=10)\n",
    "    \n",
    "    plt.ylabel('PC2')\n",
    "    plt.xlabel('PC1')\n",
    "        \n",
    "    plt.legend()\n",
    "    plt.title('Test by Class '+ Class.upper() + ' (acc=' +\"{:.2f}\".format(acc)+')')\n",
    "\n",
    "plt.tight_layout()\n",
    "plt.suptitle(\"Train by Class \" + target_class.upper() + ', adopted DAPCA', y=1.05)\n",
    "plt.show()"
   ]
  },
  {
   "cell_type": "code",
   "execution_count": null,
   "metadata": {},
   "outputs": [],
   "source": []
  }
 ],
 "metadata": {
  "kernelspec": {
   "display_name": "Python 3",
   "language": "python",
   "name": "python3"
  },
  "language_info": {
   "codemirror_mode": {
    "name": "ipython",
    "version": 3
   },
   "file_extension": ".py",
   "mimetype": "text/x-python",
   "name": "python",
   "nbconvert_exporter": "python",
   "pygments_lexer": "ipython3",
   "version": "3.8.10"
  }
 },
 "nbformat": 4,
 "nbformat_minor": 2
}
