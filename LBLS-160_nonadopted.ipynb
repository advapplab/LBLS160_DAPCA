{
 "cells": [
  {
   "cell_type": "code",
   "execution_count": 1,
   "metadata": {},
   "outputs": [
    {
     "name": "stderr",
     "output_type": "stream",
     "text": [
      "<ipython-input-1-ac09909db896>:1: DeprecationWarning: Importing display from IPython.core.display is deprecated since IPython 7.14, please import from IPython display\n",
      "  from IPython.core.display import display, HTML\n"
     ]
    },
    {
     "data": {
      "text/html": [
       "<style>.container { width:100% !important; }</style>"
      ],
      "text/plain": [
       "<IPython.core.display.HTML object>"
      ]
     },
     "metadata": {},
     "output_type": "display_data"
    }
   ],
   "source": [
    "from IPython.core.display import display, HTML\n",
    "display(HTML(\"<style>.container { width:100% !important; }</style>\"))"
   ]
  },
  {
   "cell_type": "code",
   "execution_count": 2,
   "metadata": {},
   "outputs": [
    {
     "name": "stdout",
     "output_type": "stream",
     "text": [
      "Requirement already satisfied: pandas in /usr/local/lib/python3.8/dist-packages (1.5.2)\n",
      "Requirement already satisfied: python-dateutil>=2.8.1 in /usr/local/lib/python3.8/dist-packages (from pandas) (2.8.2)\n",
      "Requirement already satisfied: numpy>=1.20.3; python_version < \"3.10\" in /usr/local/lib/python3.8/dist-packages (from pandas) (1.22.3)\n",
      "Requirement already satisfied: pytz>=2020.1 in /usr/local/lib/python3.8/dist-packages (from pandas) (2022.6)\n",
      "Requirement already satisfied: six>=1.5 in /usr/local/lib/python3.8/dist-packages (from python-dateutil>=2.8.1->pandas) (1.16.0)\n",
      "\u001b[33mWARNING: You are using pip version 20.2.4; however, version 22.3.1 is available.\n",
      "You should consider upgrading via the '/usr/bin/python3 -m pip install --upgrade pip' command.\u001b[0m\n"
     ]
    }
   ],
   "source": [
    "! pip install pandas"
   ]
  },
  {
   "cell_type": "code",
   "execution_count": 3,
   "metadata": {},
   "outputs": [],
   "source": [
    "import pandas as pd\n",
    "import numpy as np\n",
    "import matplotlib.pyplot as plt"
   ]
  },
  {
   "cell_type": "code",
   "execution_count": 4,
   "metadata": {},
   "outputs": [],
   "source": [
    "data_path = '../LBLS160/data/'"
   ]
  },
  {
   "cell_type": "code",
   "execution_count": 5,
   "metadata": {},
   "outputs": [],
   "source": [
    "br_pd = pd.read_csv(data_path + 'br.csv')\n",
    "score_pd = pd.read_csv(data_path+'score.csv')\n",
    "sill_pd = pd.read_csv(data_path+'sill.csv')\n",
    "viscode_pd = pd.read_csv(data_path+'viscode.csv')\n",
    "srl_m_pd = pd.read_csv(data_path+'srl_motivation.csv')"
   ]
  },
  {
   "cell_type": "code",
   "execution_count": 6,
   "metadata": {},
   "outputs": [],
   "source": [
    "score_pd = score_pd.set_index('userid')\n",
    "sill_pd = sill_pd.set_index('userid')\n",
    "viscode_pd = viscode_pd.set_index('userid')\n",
    "br_pd = br_pd.set_index('userid')\n",
    "srl_m_pd = srl_m_pd.set_index('userid')"
   ]
  },
  {
   "cell_type": "code",
   "execution_count": 7,
   "metadata": {},
   "outputs": [],
   "source": [
    "srl_m_pd = srl_m_pd[~srl_m_pd.index.duplicated()]\n",
    "\n",
    "# merged_pd = pd.concat([br_pd, sill_pd, viscode_pd, score_pd], axis=1)\n",
    "# merged_pd = pd.concat([br_pd, viscode_pd, srl_m_pd, sill_pd, score_pd], axis=1)\n",
    "# merged_pd = pd.concat([srl_m_pd, sill_pd, score_pd], axis=1)\n",
    "merged_pd = pd.concat([srl_m_pd, br_pd, viscode_pd, score_pd], axis=1)\n",
    "# merged_pd = merged_pd.drop(columns=['REGIST CONTENTS'])\n",
    "\n",
    "merged_pd = merged_pd[merged_pd['score'].notna()]\n",
    "merged_pd = merged_pd.fillna(0)"
   ]
  },
  {
   "cell_type": "code",
   "execution_count": null,
   "metadata": {},
   "outputs": [],
   "source": []
  },
  {
   "cell_type": "code",
   "execution_count": 8,
   "metadata": {},
   "outputs": [
    {
     "data": {
      "text/plain": [
       "(198, 85)"
      ]
     },
     "execution_count": 8,
     "metadata": {},
     "output_type": "execute_result"
    }
   ],
   "source": [
    "merged_pd['label']=1\n",
    "merged_pd.loc[merged_pd['score'] > 83, 'label']=0\n",
    "merged_pd.shape\n"
   ]
  },
  {
   "cell_type": "markdown",
   "metadata": {},
   "source": [
    "# Normalizer"
   ]
  },
  {
   "cell_type": "code",
   "execution_count": 9,
   "metadata": {},
   "outputs": [],
   "source": [
    "from sklearn.preprocessing import MinMaxScaler"
   ]
  },
  {
   "cell_type": "code",
   "execution_count": 10,
   "metadata": {},
   "outputs": [],
   "source": [
    "scaler = MinMaxScaler(feature_range=(0,1))"
   ]
  },
  {
   "cell_type": "code",
   "execution_count": 11,
   "metadata": {},
   "outputs": [
    {
     "data": {
      "text/plain": [
       "['b', 'c', 'd']"
      ]
     },
     "execution_count": 11,
     "metadata": {},
     "output_type": "execute_result"
    }
   ],
   "source": [
    "\n",
    "source_class = 'a'\n",
    "\n",
    "test_list = merged_pd['class'].unique().tolist()\n",
    "test_list.remove(source_class)\n",
    "test_list"
   ]
  },
  {
   "cell_type": "code",
   "execution_count": 12,
   "metadata": {},
   "outputs": [],
   "source": [
    "train_df = merged_pd[merged_pd['class'] == source_class]\n",
    "test_0_df = merged_pd[merged_pd['class'] == test_list[0]]\n",
    "test_1_df = merged_pd[merged_pd['class'] == test_list[1]]\n",
    "test_2_df = merged_pd[merged_pd['class'] == test_list[2]]\n",
    "\n",
    "train_np = scaler.fit_transform(train_df.drop(['class', 'label', 'score'], axis=1))\n",
    "test_0_np = scaler.transform(test_0_df.drop(['class', 'label', 'score'], axis=1))\n",
    "test_1_np = scaler.transform(test_1_df.drop(['class', 'label', 'score'], axis=1))\n",
    "test_2_np = scaler.transform(test_2_df.drop(['class', 'label', 'score'], axis=1))"
   ]
  },
  {
   "cell_type": "code",
   "execution_count": 13,
   "metadata": {},
   "outputs": [],
   "source": [
    "# convert from np to df, for feature selection\n",
    "\n",
    "train_y = train_df['label']\n",
    "test_0_y = test_0_df['label']\n",
    "test_1_y = test_1_df['label']\n",
    "test_2_y = test_2_df['label']\n",
    "\n",
    "feature_list = list(train_df.drop(['class', 'label', 'score'], axis=1))\n",
    "\n",
    "train_x_df = pd.DataFrame(train_np, columns = feature_list, index=train_df.index)\n",
    "test_0_x_df = pd.DataFrame(test_0_np, columns = feature_list, index=test_0_df.index)\n",
    "test_1_x_df = pd.DataFrame(test_1_np, columns = feature_list, index=test_1_df.index)\n",
    "test_2_x_df = pd.DataFrame(test_2_np, columns = feature_list, index=test_2_df.index)"
   ]
  },
  {
   "cell_type": "markdown",
   "metadata": {},
   "source": [
    "# Feature Selection"
   ]
  },
  {
   "cell_type": "code",
   "execution_count": 14,
   "metadata": {},
   "outputs": [],
   "source": [
    "from sklearn.feature_selection import SelectKBest\n",
    "from sklearn.feature_selection import chi2"
   ]
  },
  {
   "cell_type": "code",
   "execution_count": 15,
   "metadata": {},
   "outputs": [],
   "source": [
    "selector = SelectKBest(score_func=chi2, k=15)"
   ]
  },
  {
   "cell_type": "code",
   "execution_count": 16,
   "metadata": {},
   "outputs": [
    {
     "data": {
      "text/plain": [
       "['srl_m_17',\n",
       " 'srl_m_19',\n",
       " 'srl_m_22',\n",
       " 'srl_m_23',\n",
       " 'srl_m_24',\n",
       " 'srl_m_25',\n",
       " 'srl_m_26',\n",
       " 'ADD MEMO',\n",
       " 'CHANGE MEMO',\n",
       " 'DELETE MARKER',\n",
       " 'NOTGETIT',\n",
       " 'PAGE_JUMP',\n",
       " 'code_copy',\n",
       " 'FileNotFoundError',\n",
       " 'ModuleNotFoundError']"
      ]
     },
     "execution_count": 16,
     "metadata": {},
     "output_type": "execute_result"
    }
   ],
   "source": [
    "x_new = selector.fit_transform(train_x_df, \n",
    "                               train_y)\n",
    "\n",
    "filter = selector.get_support()\n",
    "\n",
    "features = np.array(list(train_x_df))\n",
    "\n",
    "selected_features = list(features[filter])\n",
    "selected_features"
   ]
  },
  {
   "cell_type": "code",
   "execution_count": 17,
   "metadata": {},
   "outputs": [],
   "source": [
    "merged_pd = merged_pd[selected_features]"
   ]
  },
  {
   "cell_type": "code",
   "execution_count": 18,
   "metadata": {},
   "outputs": [],
   "source": [
    "train_x_df = train_x_df[selected_features]\n",
    "test_0_x_df = test_0_x_df[selected_features]\n",
    "test_1_x_df = test_1_x_df[selected_features]\n",
    "test_2_x_df = test_2_x_df[selected_features]"
   ]
  },
  {
   "cell_type": "code",
   "execution_count": 19,
   "metadata": {},
   "outputs": [],
   "source": [
    "# train_x_df"
   ]
  },
  {
   "cell_type": "markdown",
   "metadata": {},
   "source": [
    "# PCA"
   ]
  },
  {
   "cell_type": "code",
   "execution_count": 20,
   "metadata": {},
   "outputs": [],
   "source": [
    "# from sklearn.preprocessing import Normalizer\n",
    "from sklearn.decomposition import PCA"
   ]
  },
  {
   "cell_type": "code",
   "execution_count": 21,
   "metadata": {},
   "outputs": [],
   "source": [
    "pca = PCA(n_components=2)"
   ]
  },
  {
   "cell_type": "code",
   "execution_count": 22,
   "metadata": {},
   "outputs": [],
   "source": [
    "pca.fit(train_x_df)\n",
    "train_x_pca_np = pca.transform(train_x_df)\n",
    "test_0_x_pca_np = pca.transform(test_0_x_df)\n",
    "test_1_x_pca_np = pca.transform(test_1_x_df)\n",
    "test_2_x_pca_np = pca.transform(test_2_x_df)"
   ]
  },
  {
   "cell_type": "code",
   "execution_count": 23,
   "metadata": {},
   "outputs": [],
   "source": [
    "train_pca_pd = pd.DataFrame(train_x_pca_np, index=train_x_df.index)\n",
    "train_pca_pd['label'] = train_y\n",
    "\n",
    "test_0_pd = pd.DataFrame(test_0_x_pca_np, index=test_0_df.index)\n",
    "test_0_pd['label'] = test_0_y\n",
    "\n",
    "test_1_pd = pd.DataFrame(test_1_x_pca_np, index=test_1_df.index)\n",
    "test_1_pd['label'] = test_1_y\n",
    "\n",
    "test_2_pd = pd.DataFrame(test_2_x_pca_np, index=test_2_df.index)\n",
    "test_2_pd['label'] = test_2_y"
   ]
  },
  {
   "cell_type": "markdown",
   "metadata": {},
   "source": [
    "# Plot"
   ]
  },
  {
   "cell_type": "code",
   "execution_count": 24,
   "metadata": {},
   "outputs": [
    {
     "data": {
      "image/png": "[encoded data removed]",
      "text/plain": [
       "<Figure size 640x480 with 1 Axes>"
      ]
     },
     "metadata": {},
     "output_type": "display_data"
    }
   ],
   "source": [
    "fig, ax = plt.subplots()\n",
    "\n",
    "plt.scatter(x = train_pca_pd[train_pca_pd['label']==0][0], \n",
    "            y = train_pca_pd[train_pca_pd['label']==0][1],\n",
    "            label = 'class_'+source_class + '_false (training)',\n",
    "            alpha=0.5, marker=\"+\")\n",
    "\n",
    "plt.scatter(x = train_pca_pd[train_pca_pd['label']==1][0], \n",
    "            y = train_pca_pd[train_pca_pd['label']==1][1],\n",
    "            label = 'class_'+source_class + '_true (training)',\n",
    "            alpha=0.5, marker=\"+\")\n",
    "\n",
    "\n",
    "plt.scatter(x = test_0_pd[test_0_pd['label']==0][0], \n",
    "            y = test_0_pd[test_0_pd['label']==0][1],\n",
    "            label = 'class_'+test_list[0] + '_false',\n",
    "            alpha=0.5, marker=\"*\")\n",
    "\n",
    "plt.scatter(x = test_0_pd[test_0_pd['label']==1][0], \n",
    "            y = test_0_pd[test_0_pd['label']==1][1],\n",
    "            label = 'class_'+test_list[0] + '_true',\n",
    "            alpha=0.5, marker=\"*\")\n",
    "\n",
    "# plt.scatter(x = test_1_pd[test_1_pd['label']==0][0], \n",
    "#             y = test_1_pd[test_1_pd['label']==0][1],\n",
    "#             label = 'class_'+test_list[1] + '_false',\n",
    "#             alpha=0.5, marker=\"4\")\n",
    "\n",
    "# plt.scatter(x = test_1_pd[test_1_pd['label']==1][0], \n",
    "#             y = test_1_pd[test_1_pd['label']==1][1],\n",
    "#             label = 'class_'+test_list[1] + '_true',\n",
    "#             alpha=0.5, marker=\"4\")\n",
    "\n",
    "ax.legend()\n",
    "plt.show()"
   ]
  },
  {
   "cell_type": "markdown",
   "metadata": {},
   "source": [
    "# SVM"
   ]
  },
  {
   "cell_type": "code",
   "execution_count": 25,
   "metadata": {},
   "outputs": [],
   "source": [
    "from sklearn.model_selection import train_test_split\n",
    "from sklearn import svm\n",
    "from sklearn.metrics import accuracy_score\n",
    "\n",
    "X_train, X_test, y_train, y_test = train_test_split(train_x_pca_np, \n",
    "                                                    train_y, test_size=0.33, random_state=42)"
   ]
  },
  {
   "cell_type": "code",
   "execution_count": 26,
   "metadata": {},
   "outputs": [
    {
     "data": {
      "text/html": [
       "<style>#sk-container-id-1 {color: black;background-color: white;}#sk-container-id-1 pre{padding: 0;}#sk-container-id-1 div.sk-toggleable {background-color: white;}#sk-container-id-1 label.sk-toggleable__label {cursor: pointer;display: block;width: 100%;margin-bottom: 0;padding: 0.3em;box-sizing: border-box;text-align: center;}#sk-container-id-1 label.sk-toggleable__label-arrow:before {content: \"▸\";float: left;margin-right: 0.25em;color: #696969;}#sk-container-id-1 label.sk-toggleable__label-arrow:hover:before {color: black;}#sk-container-id-1 div.sk-estimator:hover label.sk-toggleable__label-arrow:before {color: black;}#sk-container-id-1 div.sk-toggleable__content {max-height: 0;max-width: 0;overflow: hidden;text-align: left;background-color: #f0f8ff;}#sk-container-id-1 div.sk-toggleable__content pre {margin: 0.2em;color: black;border-radius: 0.25em;background-color: #f0f8ff;}#sk-container-id-1 input.sk-toggleable__control:checked~div.sk-toggleable__content {max-height: 200px;max-width: 100%;overflow: auto;}#sk-container-id-1 input.sk-toggleable__control:checked~label.sk-toggleable__label-arrow:before {content: \"▾\";}#sk-container-id-1 div.sk-estimator input.sk-toggleable__control:checked~label.sk-toggleable__label {background-color: #d4ebff;}#sk-container-id-1 div.sk-label input.sk-toggleable__control:checked~label.sk-toggleable__label {background-color: #d4ebff;}#sk-container-id-1 input.sk-hidden--visually {border: 0;clip: rect(1px 1px 1px 1px);clip: rect(1px, 1px, 1px, 1px);height: 1px;margin: -1px;overflow: hidden;padding: 0;position: absolute;width: 1px;}#sk-container-id-1 div.sk-estimator {font-family: monospace;background-color: #f0f8ff;border: 1px dotted black;border-radius: 0.25em;box-sizing: border-box;margin-bottom: 0.5em;}#sk-container-id-1 div.sk-estimator:hover {background-color: #d4ebff;}#sk-container-id-1 div.sk-parallel-item::after {content: \"\";width: 100%;border-bottom: 1px solid gray;flex-grow: 1;}#sk-container-id-1 div.sk-label:hover label.sk-toggleable__label {background-color: #d4ebff;}#sk-container-id-1 div.sk-serial::before {content: \"\";position: absolute;border-left: 1px solid gray;box-sizing: border-box;top: 0;bottom: 0;left: 50%;z-index: 0;}#sk-container-id-1 div.sk-serial {display: flex;flex-direction: column;align-items: center;background-color: white;padding-right: 0.2em;padding-left: 0.2em;position: relative;}#sk-container-id-1 div.sk-item {position: relative;z-index: 1;}#sk-container-id-1 div.sk-parallel {display: flex;align-items: stretch;justify-content: center;background-color: white;position: relative;}#sk-container-id-1 div.sk-item::before, #sk-container-id-1 div.sk-parallel-item::before {content: \"\";position: absolute;border-left: 1px solid gray;box-sizing: border-box;top: 0;bottom: 0;left: 50%;z-index: -1;}#sk-container-id-1 div.sk-parallel-item {display: flex;flex-direction: column;z-index: 1;position: relative;background-color: white;}#sk-container-id-1 div.sk-parallel-item:first-child::after {align-self: flex-end;width: 50%;}#sk-container-id-1 div.sk-parallel-item:last-child::after {align-self: flex-start;width: 50%;}#sk-container-id-1 div.sk-parallel-item:only-child::after {width: 0;}#sk-container-id-1 div.sk-dashed-wrapped {border: 1px dashed gray;margin: 0 0.4em 0.5em 0.4em;box-sizing: border-box;padding-bottom: 0.4em;background-color: white;}#sk-container-id-1 div.sk-label label {font-family: monospace;font-weight: bold;display: inline-block;line-height: 1.2em;}#sk-container-id-1 div.sk-label-container {text-align: center;}#sk-container-id-1 div.sk-container {/* jupyter's `normalize.less` sets `[hidden] { display: none; }` but bootstrap.min.css set `[hidden] { display: none !important; }` so we also need the `!important` here to be able to override the default hidden behavior on the sphinx rendered scikit-learn.org. See: https://github.com/scikit-learn/scikit-learn/issues/21755 */display: inline-block !important;position: relative;}#sk-container-id-1 div.sk-text-repr-fallback {display: none;}</style><div id=\"sk-container-id-1\" class=\"sk-top-container\"><div class=\"sk-text-repr-fallback\"><pre>SVC()</pre><b>In a Jupyter environment, please rerun this cell to show the HTML representation or trust the notebook. <br />On GitHub, the HTML representation is unable to render, please try loading this page with nbviewer.org.</b></div><div class=\"sk-container\" hidden><div class=\"sk-item\"><div class=\"sk-estimator sk-toggleable\"><input class=\"sk-toggleable__control sk-hidden--visually\" id=\"sk-estimator-id-1\" type=\"checkbox\" checked><label for=\"sk-estimator-id-1\" class=\"sk-toggleable__label sk-toggleable__label-arrow\">SVC</label><div class=\"sk-toggleable__content\"><pre>SVC()</pre></div></div></div></div></div>"
      ],
      "text/plain": [
       "SVC()"
      ]
     },
     "execution_count": 26,
     "metadata": {},
     "output_type": "execute_result"
    }
   ],
   "source": [
    "clf = svm.SVC(kernel='rbf')\n",
    "clf.fit(X_train, y_train)"
   ]
  },
  {
   "cell_type": "code",
   "execution_count": 27,
   "metadata": {},
   "outputs": [
    {
     "data": {
      "text/plain": [
       "0.9047619047619048"
      ]
     },
     "execution_count": 27,
     "metadata": {},
     "output_type": "execute_result"
    }
   ],
   "source": [
    "y_pred = clf.predict(X_test)\n",
    "accuracy_score(y_test, y_pred)"
   ]
  },
  {
   "cell_type": "code",
   "execution_count": 28,
   "metadata": {},
   "outputs": [
    {
     "data": {
      "text/plain": [
       "0.75"
      ]
     },
     "execution_count": 28,
     "metadata": {},
     "output_type": "execute_result"
    }
   ],
   "source": [
    "y_pred = clf.predict(test_0_x_pca_np)\n",
    "accuracy_score(test_0_y, y_pred)"
   ]
  },
  {
   "cell_type": "code",
   "execution_count": 29,
   "metadata": {},
   "outputs": [
    {
     "data": {
      "text/plain": [
       "0.6052631578947368"
      ]
     },
     "execution_count": 29,
     "metadata": {},
     "output_type": "execute_result"
    }
   ],
   "source": [
    "y_pred = clf.predict(test_1_x_pca_np)\n",
    "accuracy_score(test_1_y, y_pred)"
   ]
  },
  {
   "cell_type": "code",
   "execution_count": 30,
   "metadata": {},
   "outputs": [
    {
     "data": {
      "text/plain": [
       "0.6829268292682927"
      ]
     },
     "execution_count": 30,
     "metadata": {},
     "output_type": "execute_result"
    }
   ],
   "source": [
    "y_pred = clf.predict(test_2_x_pca_np)\n",
    "accuracy_score(test_2_y, y_pred)"
   ]
  },
  {
   "cell_type": "code",
   "execution_count": 31,
   "metadata": {},
   "outputs": [
    {
     "name": "stdout",
     "output_type": "stream",
     "text": [
      "Confusion matrix, without normalization\n",
      "[[11  1]\n",
      " [ 1  8]]\n",
      "Normalized confusion matrix\n",
      "[[11  1]\n",
      " [ 1  8]]\n"
     ]
    },
    {
     "data": {
      "image/png": "[encoded data removed]",
      "text/plain": [
       "<Figure size 640x480 with 2 Axes>"
      ]
     },
     "metadata": {},
     "output_type": "display_data"
    },
    {
     "data": {
      "image/png": "[encoded data removed]",
      "text/plain": [
       "<Figure size 640x480 with 2 Axes>"
      ]
     },
     "metadata": {},
     "output_type": "display_data"
    }
   ],
   "source": [
    "from sklearn.metrics import ConfusionMatrixDisplay\n",
    "\n",
    "# Plot non-normalized confusion matrix\n",
    "titles_options = [\n",
    "    (\"Confusion matrix, without normalization\", None),\n",
    "    (\"Normalized confusion matrix\", \"true\"),\n",
    "]\n",
    "for title, normalize in titles_options:\n",
    "    disp = ConfusionMatrixDisplay.from_estimator(\n",
    "        clf,\n",
    "        X_test,\n",
    "        y_test,\n",
    "        display_labels=['non-risk', 'risk'],\n",
    "        cmap=plt.cm.Blues,\n",
    "    )\n",
    "    disp.ax_.set_title(title)\n",
    "\n",
    "    print(title)\n",
    "    print(disp.confusion_matrix)\n",
    "\n",
    "plt.show()"
   ]
  },
  {
   "cell_type": "markdown",
   "metadata": {},
   "source": [
    "# Evaluation"
   ]
  },
  {
   "cell_type": "code",
   "execution_count": 32,
   "metadata": {},
   "outputs": [
    {
     "data": {
      "image/png": "[encoded data removed]",
      "text/plain": [
       "<Figure size 1000x250 with 4 Axes>"
      ]
     },
     "metadata": {},
     "output_type": "display_data"
    }
   ],
   "source": [
    "# prepare for contour\n",
    "resolution = 20\n",
    "# dx = np.linspace(np.min(train_x_pca_np[:, 0]), np.max(train_x_pca_np[:, 0]), resolution)\n",
    "# dy = np.linspace(np.min(train_x_pca_np[:, 1]), np.max(train_x_pca_np[:, 1]), resolution)\n",
    "\n",
    "dx = np.linspace(-2, 2, resolution)\n",
    "dy = np.linspace(-2, 2, resolution)\n",
    "dx, dy = np.meshgrid(dx, dy)\n",
    "\n",
    "# merge dx, dy to test_x\n",
    "test_x = np.c_[dx.flatten(), dy.flatten()]\n",
    "z = clf.predict(test_x)\n",
    "z = z.reshape(dx.shape)\n",
    "\n",
    "plt.rcParams.update({'font.size': 8})\n",
    "plt.subplots(figsize=(10, 2.5))\n",
    "for i in range(0, 4):\n",
    "    \n",
    "    plt.subplot(1, 4, i+1)\n",
    "\n",
    "\n",
    "    # draw\n",
    "    plt.contourf(dx, dy, z, alpha=0.1, cmap='RdYlBu')\n",
    "    \n",
    "    if i == 0:\n",
    "        scatter_x = train_pca_pd\n",
    "        predict_x = X_test\n",
    "        predict_y = y_test\n",
    "        label = source_class\n",
    "    else:\n",
    "        scatter_x = globals()['test_'+str(i-1)+'_pd']\n",
    "        predict_x = globals()['test_'+str(i-1)+'_x_pca_np']\n",
    "        predict_y = globals()['test_'+str(i-1)+'_y']\n",
    "        label = test_list[i-1]\n",
    "        \n",
    "    y_pred = clf.predict(predict_x)\n",
    "    acc = accuracy_score(predict_y, y_pred)\n",
    "        \n",
    "\n",
    "    plt.scatter(x = scatter_x[scatter_x['label']==0][0], \n",
    "                y = scatter_x[scatter_x['label']==0][1],\n",
    "                label = 'False',\n",
    "                alpha=0.8, marker=\"+\", s=10)\n",
    "\n",
    "    plt.scatter(x = scatter_x[scatter_x['label']==1][0], \n",
    "                y = scatter_x[scatter_x['label']==1][1],\n",
    "                label = 'True',\n",
    "                alpha=0.8, marker=\".\", s=10)\n",
    "    \n",
    "    plt.ylabel('PC2')\n",
    "    plt.xlabel('PC1')\n",
    "        \n",
    "    plt.legend()\n",
    "    plt.title('Test by Class ' + label.upper() +' (acc=' +\"{:.2f}\".format(acc)+')')\n",
    "    \n",
    "plt.tight_layout()\n",
    "plt.suptitle(\"Train by Source Class \" + source_class.upper() + ', non-adopted DAPCA', y=1.05)\n",
    "plt.show()"
   ]
  },
  {
   "cell_type": "code",
   "execution_count": null,
   "metadata": {},
   "outputs": [],
   "source": []
  }
 ],
 "metadata": {
  "kernelspec": {
   "display_name": "Python 3",
   "language": "python",
   "name": "python3"
  },
  "language_info": {
   "codemirror_mode": {
    "name": "ipython",
    "version": 3
   },
   "file_extension": ".py",
   "mimetype": "text/x-python",
   "name": "python",
   "nbconvert_exporter": "python",
   "pygments_lexer": "ipython3",
   "version": "3.8.10"
  }
 },
 "nbformat": 4,
 "nbformat_minor": 2
}
